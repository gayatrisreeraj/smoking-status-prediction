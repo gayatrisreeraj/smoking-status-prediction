{
 "cells": [
  {
   "cell_type": "code",
   "execution_count": 1,
   "id": "4f338f39",
   "metadata": {
    "_cell_guid": "b1076dfc-b9ad-4769-8c92-a6c4dae69d19",
    "_uuid": "8f2839f25d086af736a60e9eeb907d3b93b6e0e5",
    "execution": {
     "iopub.execute_input": "2023-07-13T20:54:35.218623Z",
     "iopub.status.busy": "2023-07-13T20:54:35.217537Z",
     "iopub.status.idle": "2023-07-13T20:54:37.141313Z",
     "shell.execute_reply": "2023-07-13T20:54:37.140071Z"
    },
    "papermill": {
     "duration": 1.937,
     "end_time": "2023-07-13T20:54:37.144182",
     "exception": false,
     "start_time": "2023-07-13T20:54:35.207182",
     "status": "completed"
    },
    "tags": []
   },
   "outputs": [
    {
     "name": "stderr",
     "output_type": "stream",
     "text": [
      "/opt/conda/lib/python3.10/site-packages/scipy/__init__.py:146: UserWarning: A NumPy version >=1.16.5 and <1.23.0 is required for this version of SciPy (detected version 1.23.5\n",
      "  warnings.warn(f\"A NumPy version >={np_minversion} and <{np_maxversion}\"\n"
     ]
    },
    {
     "name": "stdout",
     "output_type": "stream",
     "text": [
      "/kaggle/input/smoking-status-prediction-b1/sample_submission.csv\n",
      "/kaggle/input/smoking-status-prediction-b1/train.csv\n",
      "/kaggle/input/smoking-status-prediction-b1/test.csv\n"
     ]
    }
   ],
   "source": [
    "import pandas as pd\n",
    "from sklearn.ensemble import RandomForestClassifier, GradientBoostingClassifier, AdaBoostClassifier\n",
    "from sklearn.preprocessing import LabelEncoder\n",
    "from sklearn.metrics import accuracy_score\n",
    "from sklearn.model_selection import cross_val_score, train_test_split\n",
    "from sklearn.preprocessing import LabelEncoder\n",
    "\n",
    "import os\n",
    "for dirname, _, filenames in os.walk('/kaggle/input'):\n",
    "    for filename in filenames:\n",
    "        print(os.path.join(dirname, filename))"
   ]
  },
  {
   "cell_type": "markdown",
   "id": "9fc3aac1",
   "metadata": {
    "papermill": {
     "duration": 0.006598,
     "end_time": "2023-07-13T20:54:37.158060",
     "exception": false,
     "start_time": "2023-07-13T20:54:37.151462",
     "status": "completed"
    },
    "tags": []
   },
   "source": [
    "**TRAINING DATA**"
   ]
  },
  {
   "cell_type": "code",
   "execution_count": 2,
   "id": "77511150",
   "metadata": {
    "execution": {
     "iopub.execute_input": "2023-07-13T20:54:37.173640Z",
     "iopub.status.busy": "2023-07-13T20:54:37.173142Z",
     "iopub.status.idle": "2023-07-13T20:54:37.497038Z",
     "shell.execute_reply": "2023-07-13T20:54:37.495685Z"
    },
    "papermill": {
     "duration": 0.33495,
     "end_time": "2023-07-13T20:54:37.499734",
     "exception": false,
     "start_time": "2023-07-13T20:54:37.164784",
     "status": "completed"
    },
    "tags": []
   },
   "outputs": [
    {
     "data": {
      "text/html": [
       "<div>\n",
       "<style scoped>\n",
       "    .dataframe tbody tr th:only-of-type {\n",
       "        vertical-align: middle;\n",
       "    }\n",
       "\n",
       "    .dataframe tbody tr th {\n",
       "        vertical-align: top;\n",
       "    }\n",
       "\n",
       "    .dataframe thead th {\n",
       "        text-align: right;\n",
       "    }\n",
       "</style>\n",
       "<table border=\"1\" class=\"dataframe\">\n",
       "  <thead>\n",
       "    <tr style=\"text-align: right;\">\n",
       "      <th></th>\n",
       "      <th>ID</th>\n",
       "      <th>gender</th>\n",
       "      <th>age</th>\n",
       "      <th>height(cm)</th>\n",
       "      <th>weight(kg)</th>\n",
       "      <th>waist(cm)</th>\n",
       "      <th>eyesight(left)</th>\n",
       "      <th>eyesight(right)</th>\n",
       "      <th>hearing(left)</th>\n",
       "      <th>hearing(right)</th>\n",
       "      <th>...</th>\n",
       "      <th>hemoglobin</th>\n",
       "      <th>Urine protein</th>\n",
       "      <th>serum creatinine</th>\n",
       "      <th>AST</th>\n",
       "      <th>ALT</th>\n",
       "      <th>Gtp</th>\n",
       "      <th>oral</th>\n",
       "      <th>dental caries</th>\n",
       "      <th>tartar</th>\n",
       "      <th>smoking</th>\n",
       "    </tr>\n",
       "  </thead>\n",
       "  <tbody>\n",
       "    <tr>\n",
       "      <th>0</th>\n",
       "      <td>1</td>\n",
       "      <td>M</td>\n",
       "      <td>70</td>\n",
       "      <td>175</td>\n",
       "      <td>65</td>\n",
       "      <td>89.8</td>\n",
       "      <td>0.8</td>\n",
       "      <td>1.0</td>\n",
       "      <td>1</td>\n",
       "      <td>1</td>\n",
       "      <td>...</td>\n",
       "      <td>15.5</td>\n",
       "      <td>5</td>\n",
       "      <td>1.3</td>\n",
       "      <td>29</td>\n",
       "      <td>18</td>\n",
       "      <td>53</td>\n",
       "      <td>Y</td>\n",
       "      <td>0</td>\n",
       "      <td>Y</td>\n",
       "      <td>1</td>\n",
       "    </tr>\n",
       "    <tr>\n",
       "      <th>1</th>\n",
       "      <td>2</td>\n",
       "      <td>M</td>\n",
       "      <td>40</td>\n",
       "      <td>170</td>\n",
       "      <td>65</td>\n",
       "      <td>86.0</td>\n",
       "      <td>1.2</td>\n",
       "      <td>1.0</td>\n",
       "      <td>1</td>\n",
       "      <td>1</td>\n",
       "      <td>...</td>\n",
       "      <td>15.3</td>\n",
       "      <td>1</td>\n",
       "      <td>1.2</td>\n",
       "      <td>26</td>\n",
       "      <td>23</td>\n",
       "      <td>21</td>\n",
       "      <td>Y</td>\n",
       "      <td>1</td>\n",
       "      <td>Y</td>\n",
       "      <td>1</td>\n",
       "    </tr>\n",
       "    <tr>\n",
       "      <th>2</th>\n",
       "      <td>3</td>\n",
       "      <td>M</td>\n",
       "      <td>20</td>\n",
       "      <td>170</td>\n",
       "      <td>70</td>\n",
       "      <td>83.0</td>\n",
       "      <td>1.0</td>\n",
       "      <td>1.0</td>\n",
       "      <td>1</td>\n",
       "      <td>1</td>\n",
       "      <td>...</td>\n",
       "      <td>14.2</td>\n",
       "      <td>1</td>\n",
       "      <td>1.0</td>\n",
       "      <td>17</td>\n",
       "      <td>11</td>\n",
       "      <td>12</td>\n",
       "      <td>Y</td>\n",
       "      <td>0</td>\n",
       "      <td>N</td>\n",
       "      <td>0</td>\n",
       "    </tr>\n",
       "    <tr>\n",
       "      <th>3</th>\n",
       "      <td>4</td>\n",
       "      <td>F</td>\n",
       "      <td>60</td>\n",
       "      <td>145</td>\n",
       "      <td>50</td>\n",
       "      <td>77.0</td>\n",
       "      <td>0.4</td>\n",
       "      <td>0.5</td>\n",
       "      <td>1</td>\n",
       "      <td>2</td>\n",
       "      <td>...</td>\n",
       "      <td>12.8</td>\n",
       "      <td>1</td>\n",
       "      <td>0.5</td>\n",
       "      <td>26</td>\n",
       "      <td>12</td>\n",
       "      <td>13</td>\n",
       "      <td>Y</td>\n",
       "      <td>0</td>\n",
       "      <td>N</td>\n",
       "      <td>0</td>\n",
       "    </tr>\n",
       "    <tr>\n",
       "      <th>4</th>\n",
       "      <td>5</td>\n",
       "      <td>F</td>\n",
       "      <td>40</td>\n",
       "      <td>160</td>\n",
       "      <td>70</td>\n",
       "      <td>82.9</td>\n",
       "      <td>0.9</td>\n",
       "      <td>0.7</td>\n",
       "      <td>1</td>\n",
       "      <td>1</td>\n",
       "      <td>...</td>\n",
       "      <td>13.8</td>\n",
       "      <td>1</td>\n",
       "      <td>0.9</td>\n",
       "      <td>16</td>\n",
       "      <td>25</td>\n",
       "      <td>20</td>\n",
       "      <td>Y</td>\n",
       "      <td>0</td>\n",
       "      <td>N</td>\n",
       "      <td>0</td>\n",
       "    </tr>\n",
       "  </tbody>\n",
       "</table>\n",
       "<p>5 rows × 27 columns</p>\n",
       "</div>"
      ],
      "text/plain": [
       "   ID gender  age  height(cm)  weight(kg)  waist(cm)  eyesight(left)  \\\n",
       "0   1      M   70         175          65       89.8             0.8   \n",
       "1   2      M   40         170          65       86.0             1.2   \n",
       "2   3      M   20         170          70       83.0             1.0   \n",
       "3   4      F   60         145          50       77.0             0.4   \n",
       "4   5      F   40         160          70       82.9             0.9   \n",
       "\n",
       "   eyesight(right)  hearing(left)  hearing(right)  ...  hemoglobin  \\\n",
       "0              1.0              1               1  ...        15.5   \n",
       "1              1.0              1               1  ...        15.3   \n",
       "2              1.0              1               1  ...        14.2   \n",
       "3              0.5              1               2  ...        12.8   \n",
       "4              0.7              1               1  ...        13.8   \n",
       "\n",
       "   Urine protein  serum creatinine  AST  ALT  Gtp  oral  dental caries  \\\n",
       "0              5               1.3   29   18   53     Y              0   \n",
       "1              1               1.2   26   23   21     Y              1   \n",
       "2              1               1.0   17   11   12     Y              0   \n",
       "3              1               0.5   26   12   13     Y              0   \n",
       "4              1               0.9   16   25   20     Y              0   \n",
       "\n",
       "   tartar  smoking  \n",
       "0       Y        1  \n",
       "1       Y        1  \n",
       "2       N        0  \n",
       "3       N        0  \n",
       "4       N        0  \n",
       "\n",
       "[5 rows x 27 columns]"
      ]
     },
     "execution_count": 2,
     "metadata": {},
     "output_type": "execute_result"
    }
   ],
   "source": [
    "# Load the training data\n",
    "train_data = pd.read_csv('/kaggle/input/smoking-status-prediction-b1/train.csv')\n",
    "train_data.head()"
   ]
  },
  {
   "cell_type": "markdown",
   "id": "3a0d7ca4",
   "metadata": {
    "papermill": {
     "duration": 0.007139,
     "end_time": "2023-07-13T20:54:37.514341",
     "exception": false,
     "start_time": "2023-07-13T20:54:37.507202",
     "status": "completed"
    },
    "tags": []
   },
   "source": [
    "**TESTING DATA**"
   ]
  },
  {
   "cell_type": "code",
   "execution_count": 3,
   "id": "824ed1cb",
   "metadata": {
    "execution": {
     "iopub.execute_input": "2023-07-13T20:54:37.530924Z",
     "iopub.status.busy": "2023-07-13T20:54:37.530452Z",
     "iopub.status.idle": "2023-07-13T20:54:37.641563Z",
     "shell.execute_reply": "2023-07-13T20:54:37.639994Z"
    },
    "papermill": {
     "duration": 0.123198,
     "end_time": "2023-07-13T20:54:37.644935",
     "exception": false,
     "start_time": "2023-07-13T20:54:37.521737",
     "status": "completed"
    },
    "tags": []
   },
   "outputs": [
    {
     "data": {
      "text/html": [
       "<div>\n",
       "<style scoped>\n",
       "    .dataframe tbody tr th:only-of-type {\n",
       "        vertical-align: middle;\n",
       "    }\n",
       "\n",
       "    .dataframe tbody tr th {\n",
       "        vertical-align: top;\n",
       "    }\n",
       "\n",
       "    .dataframe thead th {\n",
       "        text-align: right;\n",
       "    }\n",
       "</style>\n",
       "<table border=\"1\" class=\"dataframe\">\n",
       "  <thead>\n",
       "    <tr style=\"text-align: right;\">\n",
       "      <th></th>\n",
       "      <th>ID</th>\n",
       "      <th>gender</th>\n",
       "      <th>age</th>\n",
       "      <th>height(cm)</th>\n",
       "      <th>weight(kg)</th>\n",
       "      <th>waist(cm)</th>\n",
       "      <th>eyesight(left)</th>\n",
       "      <th>eyesight(right)</th>\n",
       "      <th>hearing(left)</th>\n",
       "      <th>hearing(right)</th>\n",
       "      <th>...</th>\n",
       "      <th>LDL</th>\n",
       "      <th>hemoglobin</th>\n",
       "      <th>Urine protein</th>\n",
       "      <th>serum creatinine</th>\n",
       "      <th>AST</th>\n",
       "      <th>ALT</th>\n",
       "      <th>Gtp</th>\n",
       "      <th>oral</th>\n",
       "      <th>dental caries</th>\n",
       "      <th>tartar</th>\n",
       "    </tr>\n",
       "  </thead>\n",
       "  <tbody>\n",
       "    <tr>\n",
       "      <th>0</th>\n",
       "      <td>1</td>\n",
       "      <td>F</td>\n",
       "      <td>45</td>\n",
       "      <td>155</td>\n",
       "      <td>55</td>\n",
       "      <td>78.0</td>\n",
       "      <td>0.8</td>\n",
       "      <td>1.2</td>\n",
       "      <td>1</td>\n",
       "      <td>1</td>\n",
       "      <td>...</td>\n",
       "      <td>72</td>\n",
       "      <td>13.6</td>\n",
       "      <td>1</td>\n",
       "      <td>0.7</td>\n",
       "      <td>19</td>\n",
       "      <td>17</td>\n",
       "      <td>24</td>\n",
       "      <td>Y</td>\n",
       "      <td>1</td>\n",
       "      <td>N</td>\n",
       "    </tr>\n",
       "    <tr>\n",
       "      <th>1</th>\n",
       "      <td>2</td>\n",
       "      <td>F</td>\n",
       "      <td>40</td>\n",
       "      <td>160</td>\n",
       "      <td>55</td>\n",
       "      <td>74.0</td>\n",
       "      <td>0.9</td>\n",
       "      <td>0.9</td>\n",
       "      <td>1</td>\n",
       "      <td>1</td>\n",
       "      <td>...</td>\n",
       "      <td>114</td>\n",
       "      <td>14.7</td>\n",
       "      <td>1</td>\n",
       "      <td>0.9</td>\n",
       "      <td>32</td>\n",
       "      <td>22</td>\n",
       "      <td>8</td>\n",
       "      <td>Y</td>\n",
       "      <td>0</td>\n",
       "      <td>Y</td>\n",
       "    </tr>\n",
       "    <tr>\n",
       "      <th>2</th>\n",
       "      <td>3</td>\n",
       "      <td>M</td>\n",
       "      <td>40</td>\n",
       "      <td>175</td>\n",
       "      <td>85</td>\n",
       "      <td>97.0</td>\n",
       "      <td>1.5</td>\n",
       "      <td>1.0</td>\n",
       "      <td>1</td>\n",
       "      <td>1</td>\n",
       "      <td>...</td>\n",
       "      <td>97</td>\n",
       "      <td>14.7</td>\n",
       "      <td>1</td>\n",
       "      <td>0.7</td>\n",
       "      <td>20</td>\n",
       "      <td>29</td>\n",
       "      <td>62</td>\n",
       "      <td>Y</td>\n",
       "      <td>0</td>\n",
       "      <td>Y</td>\n",
       "    </tr>\n",
       "    <tr>\n",
       "      <th>3</th>\n",
       "      <td>4</td>\n",
       "      <td>M</td>\n",
       "      <td>60</td>\n",
       "      <td>160</td>\n",
       "      <td>50</td>\n",
       "      <td>72.0</td>\n",
       "      <td>1.0</td>\n",
       "      <td>1.2</td>\n",
       "      <td>1</td>\n",
       "      <td>1</td>\n",
       "      <td>...</td>\n",
       "      <td>107</td>\n",
       "      <td>14.7</td>\n",
       "      <td>1</td>\n",
       "      <td>0.9</td>\n",
       "      <td>22</td>\n",
       "      <td>14</td>\n",
       "      <td>28</td>\n",
       "      <td>Y</td>\n",
       "      <td>0</td>\n",
       "      <td>N</td>\n",
       "    </tr>\n",
       "    <tr>\n",
       "      <th>4</th>\n",
       "      <td>5</td>\n",
       "      <td>F</td>\n",
       "      <td>50</td>\n",
       "      <td>160</td>\n",
       "      <td>65</td>\n",
       "      <td>88.1</td>\n",
       "      <td>0.7</td>\n",
       "      <td>0.8</td>\n",
       "      <td>1</td>\n",
       "      <td>1</td>\n",
       "      <td>...</td>\n",
       "      <td>155</td>\n",
       "      <td>13.9</td>\n",
       "      <td>1</td>\n",
       "      <td>0.9</td>\n",
       "      <td>36</td>\n",
       "      <td>62</td>\n",
       "      <td>40</td>\n",
       "      <td>Y</td>\n",
       "      <td>0</td>\n",
       "      <td>N</td>\n",
       "    </tr>\n",
       "  </tbody>\n",
       "</table>\n",
       "<p>5 rows × 26 columns</p>\n",
       "</div>"
      ],
      "text/plain": [
       "   ID gender  age  height(cm)  weight(kg)  waist(cm)  eyesight(left)  \\\n",
       "0   1      F   45         155          55       78.0             0.8   \n",
       "1   2      F   40         160          55       74.0             0.9   \n",
       "2   3      M   40         175          85       97.0             1.5   \n",
       "3   4      M   60         160          50       72.0             1.0   \n",
       "4   5      F   50         160          65       88.1             0.7   \n",
       "\n",
       "   eyesight(right)  hearing(left)  hearing(right)  ...  LDL  hemoglobin  \\\n",
       "0              1.2              1               1  ...   72        13.6   \n",
       "1              0.9              1               1  ...  114        14.7   \n",
       "2              1.0              1               1  ...   97        14.7   \n",
       "3              1.2              1               1  ...  107        14.7   \n",
       "4              0.8              1               1  ...  155        13.9   \n",
       "\n",
       "   Urine protein  serum creatinine  AST  ALT  Gtp  oral  dental caries  tartar  \n",
       "0              1               0.7   19   17   24     Y              1       N  \n",
       "1              1               0.9   32   22    8     Y              0       Y  \n",
       "2              1               0.7   20   29   62     Y              0       Y  \n",
       "3              1               0.9   22   14   28     Y              0       N  \n",
       "4              1               0.9   36   62   40     Y              0       N  \n",
       "\n",
       "[5 rows x 26 columns]"
      ]
     },
     "execution_count": 3,
     "metadata": {},
     "output_type": "execute_result"
    }
   ],
   "source": [
    "# Load the testing data\n",
    "test_data = pd.read_csv('/kaggle/input/smoking-status-prediction-b1/test.csv')\n",
    "test_data.head()"
   ]
  },
  {
   "cell_type": "markdown",
   "id": "5a4fc9a3",
   "metadata": {
    "papermill": {
     "duration": 0.011859,
     "end_time": "2023-07-13T20:54:37.665531",
     "exception": false,
     "start_time": "2023-07-13T20:54:37.653672",
     "status": "completed"
    },
    "tags": []
   },
   "source": [
    "**PREPARING THE DATA**"
   ]
  },
  {
   "cell_type": "code",
   "execution_count": 4,
   "id": "f6d6a54f",
   "metadata": {
    "execution": {
     "iopub.execute_input": "2023-07-13T20:54:37.685737Z",
     "iopub.status.busy": "2023-07-13T20:54:37.685084Z",
     "iopub.status.idle": "2023-07-13T20:54:37.773921Z",
     "shell.execute_reply": "2023-07-13T20:54:37.772298Z"
    },
    "papermill": {
     "duration": 0.103912,
     "end_time": "2023-07-13T20:54:37.777687",
     "exception": false,
     "start_time": "2023-07-13T20:54:37.673775",
     "status": "completed"
    },
    "tags": []
   },
   "outputs": [],
   "source": [
    "# Prepare the data\n",
    "X_train = train_data.drop(['ID', 'smoking'], axis=1)\n",
    "y_train = train_data['smoking']\n",
    "X_test = test_data.drop(['ID'], axis=1)\n",
    "\n",
    "# Preprocess categorical variables\n",
    "categorical_cols = X_train.select_dtypes(include='object').columns\n",
    "\n",
    "for col in categorical_cols:\n",
    "    le = LabelEncoder()\n",
    "    X_train[col] = le.fit_transform(X_train[col])\n",
    "\n",
    "categorical_cols = X_test.select_dtypes(include='object').columns\n",
    "\n",
    "for col in categorical_cols:\n",
    "    le = LabelEncoder()\n",
    "    X_test[col] = le.fit_transform(X_test[col])"
   ]
  },
  {
   "cell_type": "markdown",
   "id": "0ab47839",
   "metadata": {
    "papermill": {
     "duration": 0.007811,
     "end_time": "2023-07-13T20:54:37.794108",
     "exception": false,
     "start_time": "2023-07-13T20:54:37.786297",
     "status": "completed"
    },
    "tags": []
   },
   "source": [
    "**DIFFERENT ENSEMBLE MODELS WITH VARIOUS HYPERPARAMETERS**"
   ]
  },
  {
   "cell_type": "markdown",
   "id": "7cc1e8cb",
   "metadata": {
    "papermill": {
     "duration": 0.008752,
     "end_time": "2023-07-13T20:54:37.810927",
     "exception": false,
     "start_time": "2023-07-13T20:54:37.802175",
     "status": "completed"
    },
    "tags": []
   },
   "source": [
    "**RANDOM FOREST**"
   ]
  },
  {
   "cell_type": "code",
   "execution_count": 5,
   "id": "bc5c570e",
   "metadata": {
    "execution": {
     "iopub.execute_input": "2023-07-13T20:54:37.830275Z",
     "iopub.status.busy": "2023-07-13T20:54:37.829831Z",
     "iopub.status.idle": "2023-07-13T20:56:44.450924Z",
     "shell.execute_reply": "2023-07-13T20:56:44.449405Z"
    },
    "papermill": {
     "duration": 126.641857,
     "end_time": "2023-07-13T20:56:44.461657",
     "exception": false,
     "start_time": "2023-07-13T20:54:37.819800",
     "status": "completed"
    },
    "tags": []
   },
   "outputs": [
    {
     "name": "stdout",
     "output_type": "stream",
     "text": [
      "\n",
      "CV SCORE:\n",
      "\n",
      "Random Forest Model 1 -  0.816325\n",
      "Random Forest Model 2 -  0.7276\n"
     ]
    }
   ],
   "source": [
    "# Random Forest\n",
    "rf_model1 = RandomForestClassifier(n_estimators=200,max_depth=20,random_state=42)\n",
    "rf_model1.fit(X_train, y_train)    \n",
    "\n",
    "# Varying hyperparameters\n",
    "rf_model2 = RandomForestClassifier(n_estimators=100,max_depth=3,random_state=42)\n",
    "rf_model2.fit(X_train, y_train) \n",
    "\n",
    "# Cross-validation\n",
    "cv_scores = cross_val_score(rf_model1, X_train, y_train, cv=5, error_score='raise')\n",
    "mean_cv_score1 = cv_scores.mean()\n",
    "cv_scores = cross_val_score(rf_model2, X_train, y_train, cv=5, error_score='raise')\n",
    "mean_cv_score2 = cv_scores.mean()\n",
    "\n",
    "print(\"\\nCV SCORE:\\n\")\n",
    "print(\"Random Forest Model 1 - \", mean_cv_score1)\n",
    "print(\"Random Forest Model 2 - \", mean_cv_score2)"
   ]
  },
  {
   "cell_type": "markdown",
   "id": "294916cc",
   "metadata": {
    "papermill": {
     "duration": 0.007642,
     "end_time": "2023-07-13T20:56:44.477371",
     "exception": false,
     "start_time": "2023-07-13T20:56:44.469729",
     "status": "completed"
    },
    "tags": []
   },
   "source": [
    "**GRADIENT BOOSTING**"
   ]
  },
  {
   "cell_type": "code",
   "execution_count": 6,
   "id": "7651ab7d",
   "metadata": {
    "execution": {
     "iopub.execute_input": "2023-07-13T20:56:44.496766Z",
     "iopub.status.busy": "2023-07-13T20:56:44.496281Z",
     "iopub.status.idle": "2023-07-13T20:59:15.532935Z",
     "shell.execute_reply": "2023-07-13T20:59:15.531689Z"
    },
    "papermill": {
     "duration": 151.057819,
     "end_time": "2023-07-13T20:59:15.543777",
     "exception": false,
     "start_time": "2023-07-13T20:56:44.485958",
     "status": "completed"
    },
    "tags": []
   },
   "outputs": [
    {
     "name": "stdout",
     "output_type": "stream",
     "text": [
      "\n",
      "CV SCORE:\n",
      "\n",
      "Gradient Boosting Model 1 -  0.765475\n",
      "Gradient Boosting Model 2 -  0.7805\n"
     ]
    }
   ],
   "source": [
    "# Gradient Boosting\n",
    "gb_model1 = GradientBoostingClassifier(n_estimators=100,learning_rate=0.1,max_depth=3,random_state=42)\n",
    "gb_model1.fit(X_train, y_train)    \n",
    "\n",
    "# Varying hyperparameters\n",
    "gb_model2 = GradientBoostingClassifier(n_estimators=100,learning_rate=0.5,max_depth=6,random_state=42)\n",
    "gb_model2.fit(X_train, y_train) \n",
    "\n",
    "# Cross-validation\n",
    "cv_scores = cross_val_score(gb_model1, X_train, y_train, cv=5, error_score='raise')\n",
    "mean_cv_score1 = cv_scores.mean()\n",
    "cv_scores = cross_val_score(gb_model2, X_train, y_train, cv=5, error_score='raise')\n",
    "mean_cv_score2 = cv_scores.mean()\n",
    "\n",
    "print(\"\\nCV SCORE:\\n\")\n",
    "print(\"Gradient Boosting Model 1 - \", mean_cv_score1)\n",
    "print(\"Gradient Boosting Model 2 - \", mean_cv_score2)"
   ]
  },
  {
   "cell_type": "markdown",
   "id": "9b7c7700",
   "metadata": {
    "papermill": {
     "duration": 0.007723,
     "end_time": "2023-07-13T20:59:15.559783",
     "exception": false,
     "start_time": "2023-07-13T20:59:15.552060",
     "status": "completed"
    },
    "tags": []
   },
   "source": [
    "**ADABOOST**"
   ]
  },
  {
   "cell_type": "code",
   "execution_count": 7,
   "id": "744e9ee9",
   "metadata": {
    "execution": {
     "iopub.execute_input": "2023-07-13T20:59:15.578209Z",
     "iopub.status.busy": "2023-07-13T20:59:15.577736Z",
     "iopub.status.idle": "2023-07-13T21:00:41.461949Z",
     "shell.execute_reply": "2023-07-13T21:00:41.460425Z"
    },
    "papermill": {
     "duration": 85.904649,
     "end_time": "2023-07-13T21:00:41.472528",
     "exception": false,
     "start_time": "2023-07-13T20:59:15.567879",
     "status": "completed"
    },
    "tags": []
   },
   "outputs": [
    {
     "name": "stdout",
     "output_type": "stream",
     "text": [
      "\n",
      "CV SCORE:\n",
      "\n",
      "AdaBoost Model 1 -  0.749425\n",
      "AdaBoost Model 2 -  0.763225\n"
     ]
    }
   ],
   "source": [
    "# AdaBoost\n",
    "ab_model1 = AdaBoostClassifier(n_estimators=100,learning_rate=0.1,random_state=42)\n",
    "ab_model1.fit(X_train, y_train)    \n",
    "\n",
    "# Varying hyperparameters\n",
    "ab_model2 = AdaBoostClassifier(n_estimators=200,learning_rate=0.2,random_state=42)\n",
    "ab_model2.fit(X_train, y_train) \n",
    "\n",
    "# Cross-validation\n",
    "cv_scores = cross_val_score(ab_model1, X_train, y_train, cv=5, error_score='raise')\n",
    "mean_cv_score1 = cv_scores.mean()\n",
    "cv_scores = cross_val_score(ab_model2, X_train, y_train, cv=5, error_score='raise')\n",
    "mean_cv_score2 = cv_scores.mean()\n",
    "\n",
    "print(\"\\nCV SCORE:\\n\")\n",
    "print(\"AdaBoost Model 1 - \", mean_cv_score1)\n",
    "print(\"AdaBoost Model 2 - \", mean_cv_score2)"
   ]
  },
  {
   "cell_type": "markdown",
   "id": "04201c07",
   "metadata": {
    "papermill": {
     "duration": 0.007821,
     "end_time": "2023-07-13T21:00:41.488861",
     "exception": false,
     "start_time": "2023-07-13T21:00:41.481040",
     "status": "completed"
    },
    "tags": []
   },
   "source": [
    "**ACCURACIES**"
   ]
  },
  {
   "cell_type": "code",
   "execution_count": 8,
   "id": "7a68f809",
   "metadata": {
    "execution": {
     "iopub.execute_input": "2023-07-13T21:00:41.509545Z",
     "iopub.status.busy": "2023-07-13T21:00:41.509054Z",
     "iopub.status.idle": "2023-07-13T21:00:42.499301Z",
     "shell.execute_reply": "2023-07-13T21:00:42.497925Z"
    },
    "papermill": {
     "duration": 1.00455,
     "end_time": "2023-07-13T21:00:42.502115",
     "exception": false,
     "start_time": "2023-07-13T21:00:41.497565",
     "status": "completed"
    },
    "tags": []
   },
   "outputs": [
    {
     "name": "stdout",
     "output_type": "stream",
     "text": [
      "\n",
      "Accuracies: \n",
      "\n",
      "Random Forest Model 1 -  0.99725\n",
      "Random Forest Model 2 -  0.730625\n",
      "Gradient Boosting Model 1 -  0.77725\n",
      "Gradient Boosting Model 2 -  0.917875\n",
      "AdaBoost Model 1 -  0.7525\n",
      "AdaBoost Model 2 -  0.768\n"
     ]
    }
   ],
   "source": [
    "# Split the training data into training and validation sets\n",
    "X_train_split, X_val, y_train_split, y_val = train_test_split(X_train, y_train, test_size=0.2, random_state=42)\n",
    "\n",
    "# Accuracy\n",
    "y_pred1 = rf_model1.predict(X_val)\n",
    "y_pred2 = rf_model2.predict(X_val)\n",
    "y_pred3 = gb_model1.predict(X_val)\n",
    "y_pred4 = gb_model2.predict(X_val)\n",
    "y_pred5 = ab_model1.predict(X_val)\n",
    "y_pred6 = ab_model2.predict(X_val)\n",
    "\n",
    "accuracy1 = accuracy_score(y_val, y_pred1)\n",
    "accuracy2 = accuracy_score(y_val, y_pred2)\n",
    "accuracy3 = accuracy_score(y_val, y_pred3)\n",
    "accuracy4 = accuracy_score(y_val, y_pred4)\n",
    "accuracy5 = accuracy_score(y_val, y_pred5)\n",
    "accuracy6 = accuracy_score(y_val, y_pred6)\n",
    "\n",
    "print(\"\\nAccuracies: \\n\")\n",
    "print(\"Random Forest Model 1 - \", accuracy1)\n",
    "print(\"Random Forest Model 2 - \", accuracy2)\n",
    "print(\"Gradient Boosting Model 1 - \", accuracy3)\n",
    "print(\"Gradient Boosting Model 2 - \", accuracy4)\n",
    "print(\"AdaBoost Model 1 - \", accuracy5)\n",
    "print(\"AdaBoost Model 2 - \", accuracy6)"
   ]
  },
  {
   "cell_type": "markdown",
   "id": "c407e92f",
   "metadata": {
    "papermill": {
     "duration": 0.008415,
     "end_time": "2023-07-13T21:00:42.519173",
     "exception": false,
     "start_time": "2023-07-13T21:00:42.510758",
     "status": "completed"
    },
    "tags": []
   },
   "source": [
    "**PREDICTIONS**"
   ]
  },
  {
   "cell_type": "code",
   "execution_count": 9,
   "id": "0899eafd",
   "metadata": {
    "execution": {
     "iopub.execute_input": "2023-07-13T21:00:42.539847Z",
     "iopub.status.busy": "2023-07-13T21:00:42.538413Z",
     "iopub.status.idle": "2023-07-13T21:00:43.358890Z",
     "shell.execute_reply": "2023-07-13T21:00:43.357456Z"
    },
    "papermill": {
     "duration": 0.833929,
     "end_time": "2023-07-13T21:00:43.361505",
     "exception": false,
     "start_time": "2023-07-13T21:00:42.527576",
     "status": "completed"
    },
    "tags": []
   },
   "outputs": [
    {
     "name": "stdout",
     "output_type": "stream",
     "text": [
      "\n",
      "Successfully made predictions on the test set.\n"
     ]
    }
   ],
   "source": [
    "# Make predictions on the test set\n",
    "predictions = rf_model1.predict(X_test)\n",
    "\n",
    "print(\"\\nSuccessfully made predictions on the test set.\")"
   ]
  },
  {
   "cell_type": "markdown",
   "id": "aa64c6cf",
   "metadata": {
    "papermill": {
     "duration": 0.008098,
     "end_time": "2023-07-13T21:00:43.378170",
     "exception": false,
     "start_time": "2023-07-13T21:00:43.370072",
     "status": "completed"
    },
    "tags": []
   },
   "source": [
    "**OUTPUT**"
   ]
  },
  {
   "cell_type": "code",
   "execution_count": 10,
   "id": "3e1ed601",
   "metadata": {
    "execution": {
     "iopub.execute_input": "2023-07-13T21:00:43.396879Z",
     "iopub.status.busy": "2023-07-13T21:00:43.396415Z",
     "iopub.status.idle": "2023-07-13T21:00:43.443691Z",
     "shell.execute_reply": "2023-07-13T21:00:43.442617Z"
    },
    "papermill": {
     "duration": 0.060677,
     "end_time": "2023-07-13T21:00:43.447403",
     "exception": false,
     "start_time": "2023-07-13T21:00:43.386726",
     "status": "completed"
    },
    "tags": []
   },
   "outputs": [
    {
     "name": "stdout",
     "output_type": "stream",
     "text": [
      "\n",
      "Successfully saved predictions to output file.\n"
     ]
    }
   ],
   "source": [
    "# Create a DataFrame with predictions\n",
    "output_data = pd.DataFrame({'ID': test_data.iloc[:, 0], 'smoking': predictions})\n",
    "\n",
    "# Save predictions to an output file\n",
    "output_data.to_csv('output_21BAI1171.csv', index = False)\n",
    "print(\"\\nSuccessfully saved predictions to output file.\")"
   ]
  },
  {
   "cell_type": "markdown",
   "id": "9ff73657",
   "metadata": {
    "papermill": {
     "duration": 0.008074,
     "end_time": "2023-07-13T21:00:43.464099",
     "exception": false,
     "start_time": "2023-07-13T21:00:43.456025",
     "status": "completed"
    },
    "tags": []
   },
   "source": [
    "**ACCURACIES OF DIFFERENT ENSEMBLE MODELS**\n",
    "\n",
    "Random Forest Model 1 -  0.99725\n",
    "\n",
    "Random Forest Model 2 -  0.730625\n",
    "\n",
    "Gradient Boosting Model 1 -  0.77725\n",
    "\n",
    "Gradient Boosting Model 2 -  0.917875\n",
    "\n",
    "AdaBoost Model 1 -  0.7525\n",
    "\n",
    "AdaBoost Model 2 -  0.768"
   ]
  }
 ],
 "metadata": {
  "kernelspec": {
   "display_name": "Python 3",
   "language": "python",
   "name": "python3"
  },
  "language_info": {
   "codemirror_mode": {
    "name": "ipython",
    "version": 3
   },
   "file_extension": ".py",
   "mimetype": "text/x-python",
   "name": "python",
   "nbconvert_exporter": "python",
   "pygments_lexer": "ipython3",
   "version": "3.10.12"
  },
  "papermill": {
   "default_parameters": {},
   "duration": 382.580138,
   "end_time": "2023-07-13T21:00:44.499404",
   "environment_variables": {},
   "exception": null,
   "input_path": "__notebook__.ipynb",
   "output_path": "__notebook__.ipynb",
   "parameters": {},
   "start_time": "2023-07-13T20:54:21.919266",
   "version": "2.4.0"
  }
 },
 "nbformat": 4,
 "nbformat_minor": 5
}
